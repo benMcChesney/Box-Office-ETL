{
 "cells": [
  {
   "cell_type": "code",
   "execution_count": 6,
   "metadata": {},
   "outputs": [
    {
     "name": "stdout",
     "output_type": "stream",
     "text": [
      "3.7.3 | packaged by conda-forge | (default, Jul  1 2019, 21:52:21) \n",
      "[GCC 7.3.0]\n",
      "Dependencies loaded!\n"
     ]
    }
   ],
   "source": [
    "import pandas as pd\n",
    "import requests\n",
    "import urllib.parse\n",
    "from lxml import html\n",
    "\n",
    "import sys\n",
    "import json\n",
    "print(sys.version)\n",
    "print('''Dependencies loaded!''')"
   ]
  },
  {
   "cell_type": "code",
   "execution_count": 9,
   "metadata": {},
   "outputs": [
    {
     "name": "stdout",
     "output_type": "stream",
     "text": [
      "[]\n",
      "<Element html at 0x7f45c72c5638>\n"
     ]
    }
   ],
   "source": [
    "_url = f'https://www.boxofficemojo.com/yearly/chart/?page=1&view=releasedate&view2=domestic&yr=2019&p=.html'\n",
    "page = requests.get(_url)\n",
    "tree = html.fromstring(page.content)\n",
    "rows = tree.xpath('/html/body/div/div[3]/div[2]/table[3]/tbody/tr/td[1]/table/tbody/tr[2]/td/table/tbody')\n",
    "print(rows)\n",
    "\n",
    "print(tree)"
   ]
  },
  {
   "cell_type": "code",
   "execution_count": null,
   "metadata": {},
   "outputs": [],
   "source": []
  }
 ],
 "metadata": {
  "kernelspec": {
   "display_name": "Python 3",
   "language": "python",
   "name": "python3"
  },
  "language_info": {
   "codemirror_mode": {
    "name": "ipython",
    "version": 3
   },
   "file_extension": ".py",
   "mimetype": "text/x-python",
   "name": "python",
   "nbconvert_exporter": "python",
   "pygments_lexer": "ipython3",
   "version": "3.7.3"
  }
 },
 "nbformat": 4,
 "nbformat_minor": 4
}
