{
 "cells": [
  {
   "cell_type": "code",
   "execution_count": 6,
   "metadata": {},
   "outputs": [
    {
     "name": "stdout",
     "output_type": "stream",
     "text": [
      "3.7.3 | packaged by conda-forge | (default, Jul  1 2019, 21:52:21) \n",
      "[GCC 7.3.0]\n",
      "Dependencies loaded!\n"
     ]
    }
   ],
   "source": [
    "import pandas as pd\n",
    "import requests\n",
    "import urllib.parse\n",
    "\n",
    "import sys\n",
    "import json\n",
    "print(sys.version)\n",
    "print('''Dependencies loaded!''')"
   ]
  },
  {
   "cell_type": "code",
   "execution_count": 52,
   "metadata": {},
   "outputs": [
    {
     "name": "stdout",
     "output_type": "stream",
     "text": [
      "http://www.omdbapi.com/?s=+&apikey=958f0123&y=2019&r=json&page=1\n",
      "{'Response': 'False', 'Error': 'Too many results.'}\n"
     ]
    }
   ],
   "source": [
    "#read API key from local file\n",
    "\n",
    "with open(\"./settings.json\", \"r\") as read_file:\n",
    "    settings = json.load(read_file)\n",
    "    \n",
    "# API structure\n",
    "base_url= f'http://www.omdbapi.com/?'\n",
    "\n",
    "\n",
    "api_vars = {\n",
    "    's':' ',\n",
    "    'apikey':settings['api_key'],\n",
    "    'y':2019,\n",
    "    'r':'json',\n",
    "    'page':1\n",
    "}\n",
    "\n",
    "\n",
    "'''\n",
    "    'plot':'short',\n",
    "    'r':'json',\n",
    "    'page':1,\n",
    "    'type':'movie',\n",
    "    'v':1.0\n",
    "    '''\n",
    "_url = f'{base_url}{urllib.parse.urlencode(api_vars)}'\n",
    "\n",
    "test_url = 'http://www.omdbapi.com/?i=tt3896198&apikey=958f0123'\n",
    "print( _url )\n",
    "response = requests.get(url=_url)\n",
    "data = response.json()\n",
    "print(data)"
   ]
  },
  {
   "cell_type": "code",
   "execution_count": 49,
   "metadata": {},
   "outputs": [
    {
     "name": "stdout",
     "output_type": "stream",
     "text": [
      "<Response [401]>\n"
     ]
    }
   ],
   "source": [
    "response = requests.get(url=_url, params=api_vars)\n",
    "print(response)"
   ]
  },
  {
   "cell_type": "code",
   "execution_count": null,
   "metadata": {},
   "outputs": [],
   "source": []
  }
 ],
 "metadata": {
  "kernelspec": {
   "display_name": "Python 3",
   "language": "python",
   "name": "python3"
  },
  "language_info": {
   "codemirror_mode": {
    "name": "ipython",
    "version": 3
   },
   "file_extension": ".py",
   "mimetype": "text/x-python",
   "name": "python",
   "nbconvert_exporter": "python",
   "pygments_lexer": "ipython3",
   "version": "3.7.3"
  }
 },
 "nbformat": 4,
 "nbformat_minor": 4
}
